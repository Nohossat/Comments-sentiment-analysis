{
 "cells": [
  {
   "cell_type": "markdown",
   "metadata": {},
   "source": [
    "# Processing"
   ]
  },
  {
   "cell_type": "code",
   "execution_count": 4,
   "metadata": {},
   "outputs": [],
   "source": [
    "import pandas as pd\n",
    "import numpy as np\n",
    "import matplotlib.pyplot as plt\n",
    "import seaborn as sns\n",
    "import time\n",
    "import nltk\n",
    "import re\n",
    "from nltk.tokenize import word_tokenize\n",
    "from nltk.tag import pos_tag\n",
    "from french_lefff_lemmatizer.french_lefff_lemmatizer import FrenchLefffLemmatizer\n",
    "from nltk.stem.snowball import FrenchStemmer\n",
    "from stop_words import get_stop_words\n",
    "import string\n",
    "from wordcloud import WordCloud\n",
    "from textblob import TextBlob\n",
    "from textblob_fr import PatternTagger, PatternAnalyzer"
   ]
  },
  {
   "cell_type": "code",
   "execution_count": 5,
   "metadata": {},
   "outputs": [
    {
     "name": "stderr",
     "output_type": "stream",
     "text": [
      "[nltk_data] Downloading package punkt to /Users/DARE/nltk_data...\n",
      "[nltk_data]   Package punkt is already up-to-date!\n",
      "[nltk_data] Downloading package averaged_perceptron_tagger to\n",
      "[nltk_data]     /Users/DARE/nltk_data...\n",
      "[nltk_data]   Package averaged_perceptron_tagger is already up-to-\n",
      "[nltk_data]       date!\n"
     ]
    },
    {
     "data": {
      "text/plain": [
       "True"
      ]
     },
     "execution_count": 5,
     "metadata": {},
     "output_type": "execute_result"
    }
   ],
   "source": [
    "# plt.rcParams['text.color'] = 'black'\n",
    "plt.rcParams[\"font.size\"] = 18\n",
    "plt.rcParams[\"figure.figsize\"] = [6, 6]\n",
    "# needed for tokenization\n",
    "nltk.download('punkt')\n",
    "nltk.download('averaged_perceptron_tagger')\n",
    "# You need the averaged_perceptron_tagger resource to determine the context of a word in a sentence."
   ]
  },
  {
   "cell_type": "code",
   "execution_count": 6,
   "metadata": {},
   "outputs": [],
   "source": [
    "df = pd.read_csv(\"datasets/booking_comments.csv\", na_values=['None', 'none'], decimal=',', encoding=\"utf8\", escapechar='\\\\')"
   ]
  },
  {
   "cell_type": "code",
   "execution_count": 7,
   "metadata": {},
   "outputs": [
    {
     "data": {
      "text/html": [
       "<div>\n",
       "<style scoped>\n",
       "    .dataframe tbody tr th:only-of-type {\n",
       "        vertical-align: middle;\n",
       "    }\n",
       "\n",
       "    .dataframe tbody tr th {\n",
       "        vertical-align: top;\n",
       "    }\n",
       "\n",
       "    .dataframe thead th {\n",
       "        text-align: right;\n",
       "    }\n",
       "</style>\n",
       "<table border=\"1\" class=\"dataframe\">\n",
       "  <thead>\n",
       "    <tr style=\"text-align: right;\">\n",
       "      <th></th>\n",
       "      <th>nom</th>\n",
       "      <th>pays</th>\n",
       "      <th>favorite</th>\n",
       "      <th>date</th>\n",
       "      <th>titre</th>\n",
       "      <th>bons_points</th>\n",
       "      <th>mauvais_points</th>\n",
       "      <th>note</th>\n",
       "      <th>type_etablissement</th>\n",
       "      <th>lieu</th>\n",
       "      <th>note_etablissement</th>\n",
       "    </tr>\n",
       "  </thead>\n",
       "  <tbody>\n",
       "    <tr>\n",
       "      <th>0</th>\n",
       "      <td>NaN</td>\n",
       "      <td>NaN</td>\n",
       "      <td>0.0</td>\n",
       "      <td>NaN</td>\n",
       "      <td>NaN</td>\n",
       "      <td>NaN</td>\n",
       "      <td>NaN</td>\n",
       "      <td>NaN</td>\n",
       "      <td>Hôtel</td>\n",
       "      <td>Paris</td>\n",
       "      <td>8.2</td>\n",
       "    </tr>\n",
       "    <tr>\n",
       "      <th>1</th>\n",
       "      <td>Guillaume</td>\n",
       "      <td>France</td>\n",
       "      <td>0.0</td>\n",
       "      <td>2019-06-21 00:00:00</td>\n",
       "      <td>Superbe</td>\n",
       "      <td>Ce client n'a pas laissé de commentaire.</td>\n",
       "      <td>NaN</td>\n",
       "      <td>8.8</td>\n",
       "      <td>Hôtel</td>\n",
       "      <td>Cannes</td>\n",
       "      <td>7.1</td>\n",
       "    </tr>\n",
       "    <tr>\n",
       "      <th>2</th>\n",
       "      <td>Isabelle</td>\n",
       "      <td>France</td>\n",
       "      <td>0</td>\n",
       "      <td>2019-09-09 00:00:00</td>\n",
       "      <td>Déçu par rapport aux descriptifs je ne recomma...</td>\n",
       "      <td>petit déjeuner très peu de choix et servis jus...</td>\n",
       "      <td>Dans la chambre un éclairage plus tamisé,dans ...</td>\n",
       "      <td>5.0</td>\n",
       "      <td>Hôtel</td>\n",
       "      <td>Nantes</td>\n",
       "      <td>8.0</td>\n",
       "    </tr>\n",
       "    <tr>\n",
       "      <th>3</th>\n",
       "      <td>Laura</td>\n",
       "      <td>France</td>\n",
       "      <td>0.0</td>\n",
       "      <td>2019-03-01 00:00:00</td>\n",
       "      <td>Bien</td>\n",
       "      <td>Ce client n'a pas laissé de commentaire.</td>\n",
       "      <td>NaN</td>\n",
       "      <td>7.9</td>\n",
       "      <td>Appart'hôtel</td>\n",
       "      <td>Cannes</td>\n",
       "      <td>6.6</td>\n",
       "    </tr>\n",
       "    <tr>\n",
       "      <th>4</th>\n",
       "      <td>Anonyme</td>\n",
       "      <td>France</td>\n",
       "      <td>0.0</td>\n",
       "      <td>2019-06-07 00:00:00</td>\n",
       "      <td>Bien</td>\n",
       "      <td>La baignoire sur pieds dans la chambre.. comme...</td>\n",
       "      <td>Le rapport qualité/prix.. Mais bon Paris est P...</td>\n",
       "      <td>7.0</td>\n",
       "      <td>Hôtel</td>\n",
       "      <td>Paris</td>\n",
       "      <td>7.6</td>\n",
       "    </tr>\n",
       "  </tbody>\n",
       "</table>\n",
       "</div>"
      ],
      "text/plain": [
       "         nom    pays favorite                 date  \\\n",
       "0        NaN     NaN      0.0                  NaN   \n",
       "1  Guillaume  France      0.0  2019-06-21 00:00:00   \n",
       "2   Isabelle  France        0  2019-09-09 00:00:00   \n",
       "3      Laura  France      0.0  2019-03-01 00:00:00   \n",
       "4    Anonyme  France      0.0  2019-06-07 00:00:00   \n",
       "\n",
       "                                               titre  \\\n",
       "0                                                NaN   \n",
       "1                                            Superbe   \n",
       "2  Déçu par rapport aux descriptifs je ne recomma...   \n",
       "3                                              Bien    \n",
       "4                                              Bien    \n",
       "\n",
       "                                         bons_points  \\\n",
       "0                                                NaN   \n",
       "1           Ce client n'a pas laissé de commentaire.   \n",
       "2  petit déjeuner très peu de choix et servis jus...   \n",
       "3           Ce client n'a pas laissé de commentaire.   \n",
       "4  La baignoire sur pieds dans la chambre.. comme...   \n",
       "\n",
       "                                      mauvais_points  note type_etablissement  \\\n",
       "0                                                NaN   NaN              Hôtel   \n",
       "1                                                NaN   8.8              Hôtel   \n",
       "2  Dans la chambre un éclairage plus tamisé,dans ...   5.0              Hôtel   \n",
       "3                                                NaN   7.9       Appart'hôtel   \n",
       "4  Le rapport qualité/prix.. Mais bon Paris est P...   7.0              Hôtel   \n",
       "\n",
       "     lieu  note_etablissement  \n",
       "0   Paris                 8.2  \n",
       "1  Cannes                 7.1  \n",
       "2  Nantes                 8.0  \n",
       "3  Cannes                 6.6  \n",
       "4   Paris                 7.6  "
      ]
     },
     "execution_count": 7,
     "metadata": {},
     "output_type": "execute_result"
    }
   ],
   "source": [
    "df.head(5)"
   ]
  },
  {
   "cell_type": "code",
   "execution_count": 8,
   "metadata": {},
   "outputs": [
    {
     "name": "stdout",
     "output_type": "stream",
     "text": [
      "Le dataset a 50814 lignes et 11 colonnes.\n"
     ]
    }
   ],
   "source": [
    "print(f'Le dataset a {df.shape[0]} lignes et {df.shape[1]} colonnes.')"
   ]
  },
  {
   "cell_type": "markdown",
   "metadata": {},
   "source": [
    "### Statistiques descriptives"
   ]
  },
  {
   "cell_type": "code",
   "execution_count": 9,
   "metadata": {},
   "outputs": [
    {
     "data": {
      "text/html": [
       "<div>\n",
       "<style scoped>\n",
       "    .dataframe tbody tr th:only-of-type {\n",
       "        vertical-align: middle;\n",
       "    }\n",
       "\n",
       "    .dataframe tbody tr th {\n",
       "        vertical-align: top;\n",
       "    }\n",
       "\n",
       "    .dataframe thead th {\n",
       "        text-align: right;\n",
       "    }\n",
       "</style>\n",
       "<table border=\"1\" class=\"dataframe\">\n",
       "  <thead>\n",
       "    <tr style=\"text-align: right;\">\n",
       "      <th></th>\n",
       "      <th>nom</th>\n",
       "      <th>pays</th>\n",
       "      <th>favorite</th>\n",
       "      <th>date</th>\n",
       "      <th>titre</th>\n",
       "      <th>bons_points</th>\n",
       "      <th>mauvais_points</th>\n",
       "      <th>note</th>\n",
       "      <th>type_etablissement</th>\n",
       "      <th>lieu</th>\n",
       "      <th>note_etablissement</th>\n",
       "    </tr>\n",
       "  </thead>\n",
       "  <tbody>\n",
       "    <tr>\n",
       "      <th>count</th>\n",
       "      <td>50070</td>\n",
       "      <td>50007</td>\n",
       "      <td>50786</td>\n",
       "      <td>50071</td>\n",
       "      <td>49958</td>\n",
       "      <td>43726</td>\n",
       "      <td>32214</td>\n",
       "      <td>50064.000000</td>\n",
       "      <td>50814</td>\n",
       "      <td>50814</td>\n",
       "      <td>50814.000000</td>\n",
       "    </tr>\n",
       "    <tr>\n",
       "      <th>unique</th>\n",
       "      <td>9367</td>\n",
       "      <td>143</td>\n",
       "      <td>4</td>\n",
       "      <td>1235</td>\n",
       "      <td>14382</td>\n",
       "      <td>25709</td>\n",
       "      <td>28947</td>\n",
       "      <td>NaN</td>\n",
       "      <td>12</td>\n",
       "      <td>6</td>\n",
       "      <td>NaN</td>\n",
       "    </tr>\n",
       "    <tr>\n",
       "      <th>top</th>\n",
       "      <td>Anonyme</td>\n",
       "      <td>France</td>\n",
       "      <td>0.0</td>\n",
       "      <td>2020-02-16 00:00:00</td>\n",
       "      <td>Passable</td>\n",
       "      <td>Ce client n'a pas laissé de commentaire.</td>\n",
       "      <td>Rien</td>\n",
       "      <td>NaN</td>\n",
       "      <td>Hôtel</td>\n",
       "      <td>Paris</td>\n",
       "      <td>NaN</td>\n",
       "    </tr>\n",
       "    <tr>\n",
       "      <th>freq</th>\n",
       "      <td>5023</td>\n",
       "      <td>43017</td>\n",
       "      <td>29267</td>\n",
       "      <td>204</td>\n",
       "      <td>5547</td>\n",
       "      <td>11838</td>\n",
       "      <td>725</td>\n",
       "      <td>NaN</td>\n",
       "      <td>42688</td>\n",
       "      <td>25396</td>\n",
       "      <td>NaN</td>\n",
       "    </tr>\n",
       "    <tr>\n",
       "      <th>mean</th>\n",
       "      <td>NaN</td>\n",
       "      <td>NaN</td>\n",
       "      <td>NaN</td>\n",
       "      <td>NaN</td>\n",
       "      <td>NaN</td>\n",
       "      <td>NaN</td>\n",
       "      <td>NaN</td>\n",
       "      <td>6.497633</td>\n",
       "      <td>NaN</td>\n",
       "      <td>NaN</td>\n",
       "      <td>7.693083</td>\n",
       "    </tr>\n",
       "    <tr>\n",
       "      <th>std</th>\n",
       "      <td>NaN</td>\n",
       "      <td>NaN</td>\n",
       "      <td>NaN</td>\n",
       "      <td>NaN</td>\n",
       "      <td>NaN</td>\n",
       "      <td>NaN</td>\n",
       "      <td>NaN</td>\n",
       "      <td>2.277708</td>\n",
       "      <td>NaN</td>\n",
       "      <td>NaN</td>\n",
       "      <td>0.908541</td>\n",
       "    </tr>\n",
       "    <tr>\n",
       "      <th>min</th>\n",
       "      <td>NaN</td>\n",
       "      <td>NaN</td>\n",
       "      <td>NaN</td>\n",
       "      <td>NaN</td>\n",
       "      <td>NaN</td>\n",
       "      <td>NaN</td>\n",
       "      <td>NaN</td>\n",
       "      <td>1.000000</td>\n",
       "      <td>NaN</td>\n",
       "      <td>NaN</td>\n",
       "      <td>3.900000</td>\n",
       "    </tr>\n",
       "    <tr>\n",
       "      <th>25%</th>\n",
       "      <td>NaN</td>\n",
       "      <td>NaN</td>\n",
       "      <td>NaN</td>\n",
       "      <td>NaN</td>\n",
       "      <td>NaN</td>\n",
       "      <td>NaN</td>\n",
       "      <td>NaN</td>\n",
       "      <td>4.600000</td>\n",
       "      <td>NaN</td>\n",
       "      <td>NaN</td>\n",
       "      <td>7.200000</td>\n",
       "    </tr>\n",
       "    <tr>\n",
       "      <th>50%</th>\n",
       "      <td>NaN</td>\n",
       "      <td>NaN</td>\n",
       "      <td>NaN</td>\n",
       "      <td>NaN</td>\n",
       "      <td>NaN</td>\n",
       "      <td>NaN</td>\n",
       "      <td>NaN</td>\n",
       "      <td>6.200000</td>\n",
       "      <td>NaN</td>\n",
       "      <td>NaN</td>\n",
       "      <td>7.900000</td>\n",
       "    </tr>\n",
       "    <tr>\n",
       "      <th>75%</th>\n",
       "      <td>NaN</td>\n",
       "      <td>NaN</td>\n",
       "      <td>NaN</td>\n",
       "      <td>NaN</td>\n",
       "      <td>NaN</td>\n",
       "      <td>NaN</td>\n",
       "      <td>NaN</td>\n",
       "      <td>8.800000</td>\n",
       "      <td>NaN</td>\n",
       "      <td>NaN</td>\n",
       "      <td>8.300000</td>\n",
       "    </tr>\n",
       "    <tr>\n",
       "      <th>max</th>\n",
       "      <td>NaN</td>\n",
       "      <td>NaN</td>\n",
       "      <td>NaN</td>\n",
       "      <td>NaN</td>\n",
       "      <td>NaN</td>\n",
       "      <td>NaN</td>\n",
       "      <td>NaN</td>\n",
       "      <td>10.000000</td>\n",
       "      <td>NaN</td>\n",
       "      <td>NaN</td>\n",
       "      <td>9.900000</td>\n",
       "    </tr>\n",
       "  </tbody>\n",
       "</table>\n",
       "</div>"
      ],
      "text/plain": [
       "            nom    pays favorite                 date     titre  \\\n",
       "count     50070   50007    50786                50071     49958   \n",
       "unique     9367     143        4                 1235     14382   \n",
       "top     Anonyme  France      0.0  2020-02-16 00:00:00  Passable   \n",
       "freq       5023   43017    29267                  204      5547   \n",
       "mean        NaN     NaN      NaN                  NaN       NaN   \n",
       "std         NaN     NaN      NaN                  NaN       NaN   \n",
       "min         NaN     NaN      NaN                  NaN       NaN   \n",
       "25%         NaN     NaN      NaN                  NaN       NaN   \n",
       "50%         NaN     NaN      NaN                  NaN       NaN   \n",
       "75%         NaN     NaN      NaN                  NaN       NaN   \n",
       "max         NaN     NaN      NaN                  NaN       NaN   \n",
       "\n",
       "                                     bons_points mauvais_points          note  \\\n",
       "count                                      43726          32214  50064.000000   \n",
       "unique                                     25709          28947           NaN   \n",
       "top     Ce client n'a pas laissé de commentaire.           Rien           NaN   \n",
       "freq                                       11838            725           NaN   \n",
       "mean                                         NaN            NaN      6.497633   \n",
       "std                                          NaN            NaN      2.277708   \n",
       "min                                          NaN            NaN      1.000000   \n",
       "25%                                          NaN            NaN      4.600000   \n",
       "50%                                          NaN            NaN      6.200000   \n",
       "75%                                          NaN            NaN      8.800000   \n",
       "max                                          NaN            NaN     10.000000   \n",
       "\n",
       "       type_etablissement   lieu  note_etablissement  \n",
       "count               50814  50814        50814.000000  \n",
       "unique                 12      6                 NaN  \n",
       "top                 Hôtel  Paris                 NaN  \n",
       "freq                42688  25396                 NaN  \n",
       "mean                  NaN    NaN            7.693083  \n",
       "std                   NaN    NaN            0.908541  \n",
       "min                   NaN    NaN            3.900000  \n",
       "25%                   NaN    NaN            7.200000  \n",
       "50%                   NaN    NaN            7.900000  \n",
       "75%                   NaN    NaN            8.300000  \n",
       "max                   NaN    NaN            9.900000  "
      ]
     },
     "execution_count": 9,
     "metadata": {},
     "output_type": "execute_result"
    }
   ],
   "source": [
    "#statistiques descriptives du dataset\n",
    "df.describe(include='all')"
   ]
  },
  {
   "cell_type": "markdown",
   "metadata": {},
   "source": [
    "## Sélection des variables\n",
    "\n",
    "Notre objectif est de savoir si un commentaire est positif ou négatif.\n",
    "\n",
    "Dans notre analyse, on partira sur 2 hypothèses pour déterminer la polarité des commentaires:  \n",
    "   - calcul de la polarité des commentaires récoltés\n",
    "   - utilisation de la colonne note pour déterminer la polarité (target déjà fourni par Booking)\n",
    "    \n",
    "On conservera donc toutes les variables qui constituent le commentaire final et la note associée.\n",
    "- **TITRE**, \n",
    "- **BONS POINTS**\n",
    "- **MAUVAIS POINTS**\n",
    "- **NOTE**"
   ]
  },
  {
   "cell_type": "code",
   "execution_count": 10,
   "metadata": {},
   "outputs": [
    {
     "data": {
      "text/html": [
       "<div>\n",
       "<style scoped>\n",
       "    .dataframe tbody tr th:only-of-type {\n",
       "        vertical-align: middle;\n",
       "    }\n",
       "\n",
       "    .dataframe tbody tr th {\n",
       "        vertical-align: top;\n",
       "    }\n",
       "\n",
       "    .dataframe thead th {\n",
       "        text-align: right;\n",
       "    }\n",
       "</style>\n",
       "<table border=\"1\" class=\"dataframe\">\n",
       "  <thead>\n",
       "    <tr style=\"text-align: right;\">\n",
       "      <th></th>\n",
       "      <th>titre</th>\n",
       "      <th>bons_points</th>\n",
       "      <th>mauvais_points</th>\n",
       "      <th>note</th>\n",
       "    </tr>\n",
       "  </thead>\n",
       "  <tbody>\n",
       "    <tr>\n",
       "      <th>0</th>\n",
       "      <td>NaN</td>\n",
       "      <td>NaN</td>\n",
       "      <td>NaN</td>\n",
       "      <td>NaN</td>\n",
       "    </tr>\n",
       "    <tr>\n",
       "      <th>1</th>\n",
       "      <td>Superbe</td>\n",
       "      <td>Ce client n'a pas laissé de commentaire.</td>\n",
       "      <td>NaN</td>\n",
       "      <td>8.8</td>\n",
       "    </tr>\n",
       "    <tr>\n",
       "      <th>2</th>\n",
       "      <td>Déçu par rapport aux descriptifs je ne recomma...</td>\n",
       "      <td>petit déjeuner très peu de choix et servis jus...</td>\n",
       "      <td>Dans la chambre un éclairage plus tamisé,dans ...</td>\n",
       "      <td>5.0</td>\n",
       "    </tr>\n",
       "    <tr>\n",
       "      <th>3</th>\n",
       "      <td>Bien</td>\n",
       "      <td>Ce client n'a pas laissé de commentaire.</td>\n",
       "      <td>NaN</td>\n",
       "      <td>7.9</td>\n",
       "    </tr>\n",
       "    <tr>\n",
       "      <th>4</th>\n",
       "      <td>Bien</td>\n",
       "      <td>La baignoire sur pieds dans la chambre.. comme...</td>\n",
       "      <td>Le rapport qualité/prix.. Mais bon Paris est P...</td>\n",
       "      <td>7.0</td>\n",
       "    </tr>\n",
       "  </tbody>\n",
       "</table>\n",
       "</div>"
      ],
      "text/plain": [
       "                                               titre  \\\n",
       "0                                                NaN   \n",
       "1                                            Superbe   \n",
       "2  Déçu par rapport aux descriptifs je ne recomma...   \n",
       "3                                              Bien    \n",
       "4                                              Bien    \n",
       "\n",
       "                                         bons_points  \\\n",
       "0                                                NaN   \n",
       "1           Ce client n'a pas laissé de commentaire.   \n",
       "2  petit déjeuner très peu de choix et servis jus...   \n",
       "3           Ce client n'a pas laissé de commentaire.   \n",
       "4  La baignoire sur pieds dans la chambre.. comme...   \n",
       "\n",
       "                                      mauvais_points  note  \n",
       "0                                                NaN   NaN  \n",
       "1                                                NaN   8.8  \n",
       "2  Dans la chambre un éclairage plus tamisé,dans ...   5.0  \n",
       "3                                                NaN   7.9  \n",
       "4  Le rapport qualité/prix.. Mais bon Paris est P...   7.0  "
      ]
     },
     "execution_count": 10,
     "metadata": {},
     "output_type": "execute_result"
    }
   ],
   "source": [
    "data = df.drop(['nom', 'pays', 'favorite', 'date', 'type_etablissement', 'lieu', 'note_etablissement'], axis= 1)\n",
    "\n",
    "data.head()"
   ]
  },
  {
   "cell_type": "markdown",
   "metadata": {},
   "source": [
    "## Traitement des valeurs manquantes"
   ]
  },
  {
   "cell_type": "code",
   "execution_count": 11,
   "metadata": {},
   "outputs": [
    {
     "data": {
      "text/plain": [
       "titre               856\n",
       "bons_points        7088\n",
       "mauvais_points    18600\n",
       "note                750\n",
       "dtype: int64"
      ]
     },
     "execution_count": 11,
     "metadata": {},
     "output_type": "execute_result"
    }
   ],
   "source": [
    "data.isna().sum()"
   ]
  },
  {
   "cell_type": "code",
   "execution_count": 12,
   "metadata": {},
   "outputs": [
    {
     "data": {
      "text/plain": [
       "titre             0\n",
       "bons_points       0\n",
       "mauvais_points    0\n",
       "note              0\n",
       "dtype: int64"
      ]
     },
     "execution_count": 12,
     "metadata": {},
     "output_type": "execute_result"
    }
   ],
   "source": [
    "# we delete empty rows\n",
    "data = data.dropna(how='all')\n",
    "\n",
    "# we delete the rows where the note is null\n",
    "# since we have 2 hypothesis that we want to test and removing 750 rows over 50k we still have plenty of data\n",
    "data = data.loc[data.note.notna()]\n",
    "\n",
    "# in the titre, bons_points and mauvais points columns we replace nan by empty strings\n",
    "data = data.fillna('')\n",
    "\n",
    "data.isna().sum()"
   ]
  },
  {
   "cell_type": "markdown",
   "metadata": {},
   "source": [
    "On décide aussi de retirer les commentaires générés par Booking "
   ]
  },
  {
   "cell_type": "code",
   "execution_count": 13,
   "metadata": {},
   "outputs": [
    {
     "name": "stderr",
     "output_type": "stream",
     "text": [
      "/Users/DARE/Documents/simplon/booking_sentiment_analysis/venv/lib/python3.7/site-packages/pandas/core/indexing.py:670: SettingWithCopyWarning: \n",
      "A value is trying to be set on a copy of a slice from a DataFrame\n",
      "\n",
      "See the caveats in the documentation: https://pandas.pydata.org/pandas-docs/stable/user_guide/indexing.html#returning-a-view-versus-a-copy\n",
      "  iloc._setitem_with_indexer(indexer, value)\n"
     ]
    }
   ],
   "source": [
    "# replace automatic comments by booking by empty strings\n",
    "commentaires_booking = [\"Ce commentaire n'apparaît pas car il ne respecte pas notre charte.\", \"Ce client n'a pas laissé de commentaire.\"]\n",
    "data.bons_points.loc[data.bons_points.isin(commentaires_booking)] = ''\n",
    "data.mauvais_points.loc[data.mauvais_points.isin(commentaires_booking)] = ''"
   ]
  },
  {
   "cell_type": "markdown",
   "metadata": {},
   "source": [
    "## Concaténation des colonnes Titre, Bons Points et Mauvais Points"
   ]
  },
  {
   "cell_type": "code",
   "execution_count": 14,
   "metadata": {},
   "outputs": [
    {
     "data": {
      "text/html": [
       "<div>\n",
       "<style scoped>\n",
       "    .dataframe tbody tr th:only-of-type {\n",
       "        vertical-align: middle;\n",
       "    }\n",
       "\n",
       "    .dataframe tbody tr th {\n",
       "        vertical-align: top;\n",
       "    }\n",
       "\n",
       "    .dataframe thead th {\n",
       "        text-align: right;\n",
       "    }\n",
       "</style>\n",
       "<table border=\"1\" class=\"dataframe\">\n",
       "  <thead>\n",
       "    <tr style=\"text-align: right;\">\n",
       "      <th></th>\n",
       "      <th>review</th>\n",
       "      <th>note</th>\n",
       "    </tr>\n",
       "  </thead>\n",
       "  <tbody>\n",
       "    <tr>\n",
       "      <th>1</th>\n",
       "      <td>Superbe</td>\n",
       "      <td>8.8</td>\n",
       "    </tr>\n",
       "    <tr>\n",
       "      <th>2</th>\n",
       "      <td>Déçu par rapport aux descriptifs je ne recomma...</td>\n",
       "      <td>5.0</td>\n",
       "    </tr>\n",
       "    <tr>\n",
       "      <th>3</th>\n",
       "      <td>Bien</td>\n",
       "      <td>7.9</td>\n",
       "    </tr>\n",
       "    <tr>\n",
       "      <th>4</th>\n",
       "      <td>Bien  La baignoire sur pieds dans la chambre.....</td>\n",
       "      <td>7.0</td>\n",
       "    </tr>\n",
       "    <tr>\n",
       "      <th>5</th>\n",
       "      <td>Pas content ! Pas grand-chose !\\nLit assez con...</td>\n",
       "      <td>4.0</td>\n",
       "    </tr>\n",
       "    <tr>\n",
       "      <th>...</th>\n",
       "      <td>...</td>\n",
       "      <td>...</td>\n",
       "    </tr>\n",
       "    <tr>\n",
       "      <th>50808</th>\n",
       "      <td>Bon acceuil, très bon rapport qualité, prix! B...</td>\n",
       "      <td>10.0</td>\n",
       "    </tr>\n",
       "    <tr>\n",
       "      <th>50809</th>\n",
       "      <td>Fabuleux  Hôtel proche de la Gare Montparnasse...</td>\n",
       "      <td>9.2</td>\n",
       "    </tr>\n",
       "    <tr>\n",
       "      <th>50811</th>\n",
       "      <td>Un séjour médiocre La localisation et le perso...</td>\n",
       "      <td>4.0</td>\n",
       "    </tr>\n",
       "    <tr>\n",
       "      <th>50812</th>\n",
       "      <td>Arrivé le soir à 22h30 et reparti le lendemain...</td>\n",
       "      <td>9.2</td>\n",
       "    </tr>\n",
       "    <tr>\n",
       "      <th>50813</th>\n",
       "      <td>Exceptionnel Tout</td>\n",
       "      <td>10.0</td>\n",
       "    </tr>\n",
       "  </tbody>\n",
       "</table>\n",
       "<p>50064 rows × 2 columns</p>\n",
       "</div>"
      ],
      "text/plain": [
       "                                                  review  note\n",
       "1                                              Superbe     8.8\n",
       "2      Déçu par rapport aux descriptifs je ne recomma...   5.0\n",
       "3                                                Bien      7.9\n",
       "4      Bien  La baignoire sur pieds dans la chambre.....   7.0\n",
       "5      Pas content ! Pas grand-chose !\\nLit assez con...   4.0\n",
       "...                                                  ...   ...\n",
       "50808  Bon acceuil, très bon rapport qualité, prix! B...  10.0\n",
       "50809  Fabuleux  Hôtel proche de la Gare Montparnasse...   9.2\n",
       "50811  Un séjour médiocre La localisation et le perso...   4.0\n",
       "50812  Arrivé le soir à 22h30 et reparti le lendemain...   9.2\n",
       "50813                                 Exceptionnel Tout   10.0\n",
       "\n",
       "[50064 rows x 2 columns]"
      ]
     },
     "execution_count": 14,
     "metadata": {},
     "output_type": "execute_result"
    }
   ],
   "source": [
    "# merge columns\n",
    "data['review'] = data.titre + ' ' + data.bons_points + ' ' + data.mauvais_points\n",
    "data = data[['review', 'note']]\n",
    "data"
   ]
  },
  {
   "cell_type": "markdown",
   "metadata": {},
   "source": [
    "## Proportion de commentaires positifs / négatifs\n",
    "\n",
    "Pour éviter d'avoir un modèle biaisé, on va observer si les commentaires sont équilibrés en fonction de leur note"
   ]
  },
  {
   "cell_type": "code",
   "execution_count": 15,
   "metadata": {},
   "outputs": [
    {
     "data": {
      "image/png": "[encoded data removed]",
      "text/plain": [
       "<Figure size 432x432 with 1 Axes>"
      ]
     },
     "metadata": {},
     "output_type": "display_data"
    }
   ],
   "source": [
    "#diagramme circulaire des modalités de la polarité des commentaires\n",
    "data_percentages = data.note.groupby(data.note > 6).size() / data.shape[0]\n",
    "\n",
    "fig1, ax1 = plt.subplots()\n",
    "\n",
    "plt.title(\"Pourcentage des commentaires positifs / négatifs selon la note Booking\", fontsize=18)\n",
    "labels = ['positif', 'négatif']\n",
    "sizes = [data_percentages[1], data_percentages[0]]\n",
    "\n",
    "patches, texts, autotexts = ax1.pie(sizes,  labels=labels, autopct='%1.1f%%', startangle=130, colors = ['#70A288', '#6D2E46'])\n",
    "texts[0].set_fontsize(15)\n",
    "texts[1].set_fontsize(15)"
   ]
  },
  {
   "cell_type": "markdown",
   "metadata": {},
   "source": [
    "These steps can be pretty long for a large dataset so we will keep only 10000 comments, 5000 positive and 5000 negative."
   ]
  },
  {
   "cell_type": "code",
   "execution_count": 16,
   "metadata": {},
   "outputs": [
    {
     "data": {
      "text/plain": [
       "(24474, 2)"
      ]
     },
     "execution_count": 16,
     "metadata": {},
     "output_type": "execute_result"
    }
   ],
   "source": [
    "df_neg = data.loc[data.note < 6]\n",
    "df_neg.shape"
   ]
  },
  {
   "cell_type": "code",
   "execution_count": 17,
   "metadata": {},
   "outputs": [
    {
     "data": {
      "text/plain": [
       "(25590, 2)"
      ]
     },
     "execution_count": 17,
     "metadata": {},
     "output_type": "execute_result"
    }
   ],
   "source": [
    "df_pos = data.loc[data.note >= 6]\n",
    "df_pos.shape"
   ]
  },
  {
   "cell_type": "code",
   "execution_count": 18,
   "metadata": {},
   "outputs": [
    {
     "data": {
      "text/html": [
       "<div>\n",
       "<style scoped>\n",
       "    .dataframe tbody tr th:only-of-type {\n",
       "        vertical-align: middle;\n",
       "    }\n",
       "\n",
       "    .dataframe tbody tr th {\n",
       "        vertical-align: top;\n",
       "    }\n",
       "\n",
       "    .dataframe thead th {\n",
       "        text-align: right;\n",
       "    }\n",
       "</style>\n",
       "<table border=\"1\" class=\"dataframe\">\n",
       "  <thead>\n",
       "    <tr style=\"text-align: right;\">\n",
       "      <th></th>\n",
       "      <th>review</th>\n",
       "      <th>note</th>\n",
       "    </tr>\n",
       "  </thead>\n",
       "  <tbody>\n",
       "    <tr>\n",
       "      <th>1</th>\n",
       "      <td>Superbe</td>\n",
       "      <td>8.8</td>\n",
       "    </tr>\n",
       "    <tr>\n",
       "      <th>3</th>\n",
       "      <td>Bien</td>\n",
       "      <td>7.9</td>\n",
       "    </tr>\n",
       "    <tr>\n",
       "      <th>4</th>\n",
       "      <td>Bien  La baignoire sur pieds dans la chambre.....</td>\n",
       "      <td>7.0</td>\n",
       "    </tr>\n",
       "    <tr>\n",
       "      <th>7</th>\n",
       "      <td>Bien  Le personnel très agréable , bonne liter...</td>\n",
       "      <td>7.5</td>\n",
       "    </tr>\n",
       "    <tr>\n",
       "      <th>9</th>\n",
       "      <td>Bien</td>\n",
       "      <td>7.0</td>\n",
       "    </tr>\n",
       "  </tbody>\n",
       "</table>\n",
       "</div>"
      ],
      "text/plain": [
       "                                              review  note\n",
       "1                                          Superbe     8.8\n",
       "3                                            Bien      7.9\n",
       "4  Bien  La baignoire sur pieds dans la chambre.....   7.0\n",
       "7  Bien  Le personnel très agréable , bonne liter...   7.5\n",
       "9                                            Bien      7.0"
      ]
     },
     "metadata": {},
     "output_type": "display_data"
    },
    {
     "data": {
      "text/html": [
       "<div>\n",
       "<style scoped>\n",
       "    .dataframe tbody tr th:only-of-type {\n",
       "        vertical-align: middle;\n",
       "    }\n",
       "\n",
       "    .dataframe tbody tr th {\n",
       "        vertical-align: top;\n",
       "    }\n",
       "\n",
       "    .dataframe thead th {\n",
       "        text-align: right;\n",
       "    }\n",
       "</style>\n",
       "<table border=\"1\" class=\"dataframe\">\n",
       "  <thead>\n",
       "    <tr style=\"text-align: right;\">\n",
       "      <th></th>\n",
       "      <th>review</th>\n",
       "      <th>note</th>\n",
       "    </tr>\n",
       "  </thead>\n",
       "  <tbody>\n",
       "    <tr>\n",
       "      <th>10412</th>\n",
       "      <td>Passable Lit Etroit pour 2 Le service de netto...</td>\n",
       "      <td>5.0</td>\n",
       "    </tr>\n",
       "    <tr>\n",
       "      <th>10418</th>\n",
       "      <td>séjour possible, mais on n'a pas vraiment envi...</td>\n",
       "      <td>5.0</td>\n",
       "    </tr>\n",
       "    <tr>\n",
       "      <th>10421</th>\n",
       "      <td>Assez médiocre  L'emplacement</td>\n",
       "      <td>3.0</td>\n",
       "    </tr>\n",
       "    <tr>\n",
       "      <th>10422</th>\n",
       "      <td>Décevant</td>\n",
       "      <td>4.2</td>\n",
       "    </tr>\n",
       "    <tr>\n",
       "      <th>10425</th>\n",
       "      <td>Horrible La chambre était affreuse ...vieille ...</td>\n",
       "      <td>5.0</td>\n",
       "    </tr>\n",
       "  </tbody>\n",
       "</table>\n",
       "</div>"
      ],
      "text/plain": [
       "                                                  review  note\n",
       "10412  Passable Lit Etroit pour 2 Le service de netto...   5.0\n",
       "10418  séjour possible, mais on n'a pas vraiment envi...   5.0\n",
       "10421                     Assez médiocre  L'emplacement    3.0\n",
       "10422                                         Décevant     4.2\n",
       "10425  Horrible La chambre était affreuse ...vieille ...   5.0"
      ]
     },
     "metadata": {},
     "output_type": "display_data"
    }
   ],
   "source": [
    "df_small = pd.concat([df_pos[:5000], df_neg[:5000]], axis=0)\n",
    "display(df_small.head())\n",
    "display(df_small.tail())"
   ]
  },
  {
   "cell_type": "markdown",
   "metadata": {},
   "source": [
    "## Comment préparer son dataset dans un projet NLP ?\n",
    "\n",
    "Pour optimiser notre modélisation, on souhaite **conserver seulement les mots / caractères les plus pertinents pour déterminer la polarité d'un commentaire**. \n",
    "\n",
    "4 étapes :\n",
    "\n",
    "- tokenisation\n",
    "- retrait des stop words\n",
    "- lemmatisation\n",
    "- stemming\n",
    "\n",
    "### 1 - Tokenisation\n",
    "\n",
    "Pour faciliter la compréhension du language naturel par la machine, on doit transformer nos chaînes de caractères en tokens.\n",
    "\n",
    ">**tokens** : mots, ponctuation, symboles\n",
    "\n",
    "La tokenisation basique consiste à séparer le texte par les espaces et la ponctuation. "
   ]
  },
  {
   "cell_type": "code",
   "execution_count": 19,
   "metadata": {},
   "outputs": [],
   "source": [
    "get_review_tokens = [word_tokenize(review) for review in df_small.review]"
   ]
  },
  {
   "cell_type": "markdown",
   "metadata": {},
   "source": [
    "### 2 - retrait des stop words\n",
    "\n",
    "Les conjonctions de coordinations et la ponctuation n'apporte pas d'information pertinente donc pour améliorer la vitesse du modèle on peut les retirer et éviter d'influencer le modèle par leur présence, on les retire. "
   ]
  },
  {
   "cell_type": "code",
   "execution_count": 20,
   "metadata": {},
   "outputs": [],
   "source": [
    "# 'ne' / 'pas' can't be stop words, they have meaning\n",
    "stop_words = get_stop_words('french').copy() \n",
    "stop_words.remove('ne')\n",
    "stop_words.remove('pas')"
   ]
  },
  {
   "cell_type": "code",
   "execution_count": 21,
   "metadata": {},
   "outputs": [],
   "source": [
    "def remove_stopwords(review, stopwords):\n",
    "    #remove punctuation\n",
    "    ponctuations = string.punctuation\n",
    "    p = re.compile(r'\\.+')\n",
    "    \n",
    "    # remove stop words, ellipsis, punctuation and words which length is below 2 and numbers\n",
    "    review = [p.sub(r'', word).lower() for word in review if word.lower() not in stop_words and word not in ponctuations and not word.isnumeric() and len(word) > 2]\n",
    "    \n",
    "    # remove empty strings\n",
    "    review = filter(None, review)\n",
    "    \n",
    "    return ' '.join(review)"
   ]
  },
  {
   "cell_type": "code",
   "execution_count": 22,
   "metadata": {},
   "outputs": [],
   "source": [
    "cleaned_review_tokens = [remove_stopwords(review, stop_words) for review in get_review_tokens]"
   ]
  },
  {
   "cell_type": "markdown",
   "metadata": {},
   "source": [
    "### 3 -Normalization : stemmatisation & lemmatization\n",
    "\n",
    "La normalisation en NLP consiste à conserver la forme canonique des mots du corpus. On peut utiliser deux méthodes : la lemmatization et le stemmatisation"
   ]
  },
  {
   "cell_type": "markdown",
   "metadata": {},
   "source": [
    "#### Lemmatization \n",
    "\n",
    "La lemmatization consiste à analyser le mot selon le contexte d'utilisation et le remplacer par une forme normalisée.\n",
    "\n",
    "**1 - Etiquetage morpho-syntaxique**\n",
    "\n",
    "On détermine le contexte d'utilisation grâce à l'étiquetage morpho-syntaxique (Part-Of-Speech - POS Tagging ): on essaye d'attribuer une étiquette (tag) à chaque mot correspondant à sa fonctionnalité grammaticale dans la phrase (nom propre, adjectif, etc...)\n",
    "\n",
    "Notre lemmatizer utilise les tags du WordNet, donc il faut lier les tags en sortie de la fonction pos_tag à ceux de WordNet (a, n, r, v).\n",
    "\n",
    "**Part-of-speech tags**\n",
    "\n",
    "|tag de la fonction pos_tag|tag WordNet| signification |\n",
    "|-|-|-|\n",
    "| tags commençant par N | n | nom |\n",
    "| tags commençant par JJ | a | adjectif |\n",
    "| tags commençant par V | v | verbe |\n",
    "| tags commençant par R | r | adverbe |\n",
    "| les autres tags | N/A | N/A |\n",
    "\n",
    "Les tags qui n'entrent dans aucune des catégories, ne seront pas considérés par le lemmatizer."
   ]
  },
  {
   "cell_type": "code",
   "execution_count": 63,
   "metadata": {},
   "outputs": [],
   "source": [
    "def get_POS(review):\n",
    "    # pos tag only work if all the element inside the list aren't empty\n",
    "    review = review.split(' ')\n",
    "    review = list(filter(None, review))\n",
    "    return pos_tag(review)"
   ]
  },
  {
   "cell_type": "code",
   "execution_count": 64,
   "metadata": {},
   "outputs": [],
   "source": [
    "tokens_with_pos = [get_POS(review) for review in cleaned_review_tokens]"
   ]
  },
  {
   "cell_type": "code",
   "execution_count": 95,
   "metadata": {},
   "outputs": [],
   "source": [
    "# save tokens with POS tagging into a npy file\n",
    "np.save('tokens_with_pos.npy', np.array(tokens_with_pos, dtype=object))"
   ]
  },
  {
   "cell_type": "code",
   "execution_count": 66,
   "metadata": {},
   "outputs": [],
   "source": [
    "def word_lemmatizer(review_with_tag):\n",
    "    lemmatizer = FrenchLefffLemmatizer()\n",
    "    \n",
    "    lem_text = []\n",
    "    \n",
    "    for word, pos in review_with_tag:\n",
    "        if pos.startswith('N'):\n",
    "            normalized_word = lemmatizer.lemmatize(word, 'n') \n",
    "        elif pos.startswith('JJ'):\n",
    "            normalized_word = lemmatizer.lemmatize(word, 'a') \n",
    "        elif pos.startswith('V'):\n",
    "            normalized_word =  lemmatizer.lemmatize(word, 'v') \n",
    "        elif pos.startswith('R'):\n",
    "            normalized_word = lemmatizer.lemmatize(word, 'r') \n",
    "        else :\n",
    "            normalized_word = lemmatizer.lemmatize(word) \n",
    "        \n",
    "        lem_text.append(normalized_word)\n",
    "            \n",
    "    return lem_text"
   ]
  },
  {
   "cell_type": "code",
   "execution_count": 67,
   "metadata": {},
   "outputs": [
    {
     "name": "stdout",
     "output_type": "stream",
     "text": [
      "CPU times: user 7h 10min 8s, sys: 18min 8s, total: 7h 28min 17s\n",
      "Wall time: 8h 39min 6s\n"
     ]
    }
   ],
   "source": [
    "%%time\n",
    "lemmatized_tokens = [word_lemmatizer(review) for review in tokens_with_pos]"
   ]
  },
  {
   "cell_type": "markdown",
   "metadata": {},
   "source": [
    "#### Stemmatisation\n",
    "\n",
    "Pour éviter d'inclure les variations d'un mot dans notre corpus (ex: vouloir : veux, voulons, veuille, etc..), on va récuperer le radical du mot."
   ]
  },
  {
   "cell_type": "code",
   "execution_count": 112,
   "metadata": {},
   "outputs": [],
   "source": [
    "# save normalized tokens into a npy file\n",
    "np.save('datasets/lemmatized_tokens.npy', np.array(lemmatized_tokens, dtype=object))"
   ]
  },
  {
   "cell_type": "code",
   "execution_count": 114,
   "metadata": {},
   "outputs": [],
   "source": [
    "# load lemmatized data\n",
    "# test = np.load('datasets/lemmatized_tokens.npy', allow_pickle=True)"
   ]
  },
  {
   "cell_type": "code",
   "execution_count": 115,
   "metadata": {},
   "outputs": [],
   "source": [
    "def stem_review(review):\n",
    "    stem = FrenchStemmer()\n",
    "    # review = review.split(' ')\n",
    "    return [stem.stem(word) for word in review]"
   ]
  },
  {
   "cell_type": "code",
   "execution_count": 111,
   "metadata": {},
   "outputs": [],
   "source": [
    "normalized_tokens = [stem_review(review) for review in lemmatized_tokens]"
   ]
  },
  {
   "cell_type": "code",
   "execution_count": 116,
   "metadata": {},
   "outputs": [],
   "source": [
    "# save normalized tokens into a npy file\n",
    "# np.save('datasets/normalized_tokens.npy', np.array(normalized_tokens, dtype=object))"
   ]
  },
  {
   "cell_type": "code",
   "execution_count": 23,
   "metadata": {},
   "outputs": [],
   "source": [
    "# load normalized data\n",
    "normalized_tokens = np.load('datasets/normalized_tokens.npy', allow_pickle=True)"
   ]
  },
  {
   "cell_type": "markdown",
   "metadata": {},
   "source": [
    "> Nos commentaires sont nettoyés et normalisés"
   ]
  },
  {
   "cell_type": "markdown",
   "metadata": {},
   "source": [
    "### VISUALISATION : Fréquence des mots et nuage de mots\n",
    "\n",
    "Pour observer la fréquence des mots, on va utiliser le corpus **cleaned_review_tokens** qui ne comprend pas la normalization et donc nous permet de voir les mots dans leur forme entière."
   ]
  },
  {
   "cell_type": "code",
   "execution_count": 24,
   "metadata": {},
   "outputs": [],
   "source": [
    "# we need to get all words\n",
    "all_words = np.hstack(np.array(cleaned_review_tokens))\n",
    "all_words = ' '.join(all_words).split(' ')\n",
    "\n",
    "#calculer les 100 mots les plus fréquents\n",
    "nb = 100\n",
    "word_dist = nltk.FreqDist(all_words)"
   ]
  },
  {
   "cell_type": "code",
   "execution_count": 25,
   "metadata": {},
   "outputs": [
    {
     "data": {
      "text/html": [
       "<div>\n",
       "<style scoped>\n",
       "    .dataframe tbody tr th:only-of-type {\n",
       "        vertical-align: middle;\n",
       "    }\n",
       "\n",
       "    .dataframe tbody tr th {\n",
       "        vertical-align: top;\n",
       "    }\n",
       "\n",
       "    .dataframe thead th {\n",
       "        text-align: right;\n",
       "    }\n",
       "</style>\n",
       "<table border=\"1\" class=\"dataframe\">\n",
       "  <thead>\n",
       "    <tr style=\"text-align: right;\">\n",
       "      <th></th>\n",
       "      <th>Word</th>\n",
       "      <th>Frequency</th>\n",
       "    </tr>\n",
       "  </thead>\n",
       "  <tbody>\n",
       "    <tr>\n",
       "      <th>0</th>\n",
       "      <td>pas</td>\n",
       "      <td>5507</td>\n",
       "    </tr>\n",
       "    <tr>\n",
       "      <th>1</th>\n",
       "      <td>chambre</td>\n",
       "      <td>4208</td>\n",
       "    </tr>\n",
       "    <tr>\n",
       "      <th>2</th>\n",
       "      <td>bien</td>\n",
       "      <td>2924</td>\n",
       "    </tr>\n",
       "    <tr>\n",
       "      <th>3</th>\n",
       "      <td>petit</td>\n",
       "      <td>2138</td>\n",
       "    </tr>\n",
       "    <tr>\n",
       "      <th>4</th>\n",
       "      <td>personnel</td>\n",
       "      <td>1972</td>\n",
       "    </tr>\n",
       "    <tr>\n",
       "      <th>5</th>\n",
       "      <td>hôtel</td>\n",
       "      <td>1512</td>\n",
       "    </tr>\n",
       "    <tr>\n",
       "      <th>6</th>\n",
       "      <td>salle</td>\n",
       "      <td>1415</td>\n",
       "    </tr>\n",
       "    <tr>\n",
       "      <th>7</th>\n",
       "      <td>déjeuner</td>\n",
       "      <td>1409</td>\n",
       "    </tr>\n",
       "    <tr>\n",
       "      <th>8</th>\n",
       "      <td>décevant</td>\n",
       "      <td>1168</td>\n",
       "    </tr>\n",
       "    <tr>\n",
       "      <th>9</th>\n",
       "      <td>passable</td>\n",
       "      <td>1125</td>\n",
       "    </tr>\n",
       "  </tbody>\n",
       "</table>\n",
       "</div>"
      ],
      "text/plain": [
       "        Word  Frequency\n",
       "0        pas       5507\n",
       "1    chambre       4208\n",
       "2       bien       2924\n",
       "3      petit       2138\n",
       "4  personnel       1972\n",
       "5      hôtel       1512\n",
       "6      salle       1415\n",
       "7   déjeuner       1409\n",
       "8   décevant       1168\n",
       "9   passable       1125"
      ]
     },
     "execution_count": 25,
     "metadata": {},
     "output_type": "execute_result"
    }
   ],
   "source": [
    "#affichage dans un dataframe des 10 mots les plus fréquents\n",
    "word_frequency = pd.DataFrame(word_dist.most_common(nb), columns=['Word', 'Frequency'])\n",
    "most_frequent = word_frequency.head(10)\n",
    "most_frequent"
   ]
  },
  {
   "cell_type": "code",
   "execution_count": 26,
   "metadata": {},
   "outputs": [
    {
     "data": {
      "text/plain": [
       "<AxesSubplot:xlabel='Word', ylabel='Frequency'>"
      ]
     },
     "execution_count": 26,
     "metadata": {},
     "output_type": "execute_result"
    },
    {
     "data": {
      "image/png": "[encoded data removed]",
      "text/plain": [
       "<Figure size 1440x720 with 1 Axes>"
      ]
     },
     "metadata": {
      "needs_background": "light"
     },
     "output_type": "display_data"
    }
   ],
   "source": [
    "#histogramme des 10 mots les plus fréquents\n",
    "plt.figure(figsize=(20,10))\n",
    "sns.set_style(\"whitegrid\")\n",
    "sns.barplot(x=\"Word\",y=\"Frequency\", data=most_frequent)"
   ]
  },
  {
   "cell_type": "code",
   "execution_count": 27,
   "metadata": {},
   "outputs": [],
   "source": [
    "#fonction pour générer un nuage de mots\n",
    "def wcloud(data,bgcolor,title):\n",
    "    plt.figure(figsize = (100,100))\n",
    "    wc = WordCloud(background_color = bgcolor, max_words = 1000,  max_font_size = 50)\n",
    "    wc.generate(' '.join(data))\n",
    "    plt.imshow(wc)\n",
    "    plt.axis('off')"
   ]
  },
  {
   "cell_type": "code",
   "execution_count": 28,
   "metadata": {},
   "outputs": [
    {
     "data": {
      "image/png": "[encoded data removed]",
      "text/plain": [
       "<Figure size 7200x7200 with 1 Axes>"
      ]
     },
     "metadata": {},
     "output_type": "display_data"
    }
   ],
   "source": [
    "wcloud(all_words,'black','Common Words')"
   ]
  },
  {
   "cell_type": "code",
   "execution_count": 29,
   "metadata": {},
   "outputs": [
    {
     "data": {
      "text/plain": [
       "['bien',\n",
       " 'baignoir',\n",
       " 'pied',\n",
       " 'chambr',\n",
       " 'film',\n",
       " 'rapport',\n",
       " 'qualité/prix',\n",
       " 'paris',\n",
       " 'pari']"
      ]
     },
     "execution_count": 29,
     "metadata": {},
     "output_type": "execute_result"
    }
   ],
   "source": [
    "normalized_tokens[2]"
   ]
  },
  {
   "cell_type": "markdown",
   "metadata": {},
   "source": [
    "### Save processed data to CSV file for modeling"
   ]
  },
  {
   "cell_type": "code",
   "execution_count": 32,
   "metadata": {},
   "outputs": [
    {
     "data": {
      "text/html": [
       "<div>\n",
       "<style scoped>\n",
       "    .dataframe tbody tr th:only-of-type {\n",
       "        vertical-align: middle;\n",
       "    }\n",
       "\n",
       "    .dataframe tbody tr th {\n",
       "        vertical-align: top;\n",
       "    }\n",
       "\n",
       "    .dataframe thead th {\n",
       "        text-align: right;\n",
       "    }\n",
       "</style>\n",
       "<table border=\"1\" class=\"dataframe\">\n",
       "  <thead>\n",
       "    <tr style=\"text-align: right;\">\n",
       "      <th></th>\n",
       "      <th>review</th>\n",
       "      <th>note</th>\n",
       "    </tr>\n",
       "  </thead>\n",
       "  <tbody>\n",
       "    <tr>\n",
       "      <th>1</th>\n",
       "      <td>[superb]</td>\n",
       "      <td>8.8</td>\n",
       "    </tr>\n",
       "    <tr>\n",
       "      <th>3</th>\n",
       "      <td>[bien]</td>\n",
       "      <td>7.9</td>\n",
       "    </tr>\n",
       "    <tr>\n",
       "      <th>4</th>\n",
       "      <td>[bien, baignoir, pied, chambr, film, rapport, ...</td>\n",
       "      <td>7.0</td>\n",
       "    </tr>\n",
       "    <tr>\n",
       "      <th>7</th>\n",
       "      <td>[bien, personnel, agréabl, bon, liter, pet, dé...</td>\n",
       "      <td>7.5</td>\n",
       "    </tr>\n",
       "    <tr>\n",
       "      <th>9</th>\n",
       "      <td>[bien]</td>\n",
       "      <td>7.0</td>\n",
       "    </tr>\n",
       "  </tbody>\n",
       "</table>\n",
       "</div>"
      ],
      "text/plain": [
       "                                              review  note\n",
       "1                                           [superb]   8.8\n",
       "3                                             [bien]   7.9\n",
       "4  [bien, baignoir, pied, chambr, film, rapport, ...   7.0\n",
       "7  [bien, personnel, agréabl, bon, liter, pet, dé...   7.5\n",
       "9                                             [bien]   7.0"
      ]
     },
     "metadata": {},
     "output_type": "display_data"
    },
    {
     "data": {
      "text/html": [
       "<div>\n",
       "<style scoped>\n",
       "    .dataframe tbody tr th:only-of-type {\n",
       "        vertical-align: middle;\n",
       "    }\n",
       "\n",
       "    .dataframe tbody tr th {\n",
       "        vertical-align: top;\n",
       "    }\n",
       "\n",
       "    .dataframe thead th {\n",
       "        text-align: right;\n",
       "    }\n",
       "</style>\n",
       "<table border=\"1\" class=\"dataframe\">\n",
       "  <thead>\n",
       "    <tr style=\"text-align: right;\">\n",
       "      <th></th>\n",
       "      <th>review</th>\n",
       "      <th>note</th>\n",
       "    </tr>\n",
       "  </thead>\n",
       "  <tbody>\n",
       "    <tr>\n",
       "      <th>10412</th>\n",
       "      <td>[passabl, lit, etroit, servic, nettoyag, jet, ...</td>\n",
       "      <td>5.0</td>\n",
       "    </tr>\n",
       "    <tr>\n",
       "      <th>10418</th>\n",
       "      <td>[séjour, possibl, pas, vrai, envi, reven, sauf...</td>\n",
       "      <td>5.0</td>\n",
       "    </tr>\n",
       "    <tr>\n",
       "      <th>10421</th>\n",
       "      <td>[assez, médiocr, l'emplac]</td>\n",
       "      <td>3.0</td>\n",
       "    </tr>\n",
       "    <tr>\n",
       "      <th>10422</th>\n",
       "      <td>[décev]</td>\n",
       "      <td>4.2</td>\n",
       "    </tr>\n",
       "    <tr>\n",
       "      <th>10425</th>\n",
       "      <td>[horribl, chambr, affreux, vieil, moquet, sal,...</td>\n",
       "      <td>5.0</td>\n",
       "    </tr>\n",
       "  </tbody>\n",
       "</table>\n",
       "</div>"
      ],
      "text/plain": [
       "                                                  review  note\n",
       "10412  [passabl, lit, etroit, servic, nettoyag, jet, ...   5.0\n",
       "10418  [séjour, possibl, pas, vrai, envi, reven, sauf...   5.0\n",
       "10421                         [assez, médiocr, l'emplac]   3.0\n",
       "10422                                            [décev]   4.2\n",
       "10425  [horribl, chambr, affreux, vieil, moquet, sal,...   5.0"
      ]
     },
     "metadata": {},
     "output_type": "display_data"
    }
   ],
   "source": [
    "processed_data = pd.DataFrame(data= {'review' : normalized_tokens, 'note' : df_small.note})\n",
    "processed_data.to_csv('datasets/processed_data.csv', index=False)"
   ]
  }
 ],
 "metadata": {
  "kernelspec": {
   "display_name": "Python 3",
   "language": "python",
   "name": "python3"
  },
  "language_info": {
   "codemirror_mode": {
    "name": "ipython",
    "version": 3
   },
   "file_extension": ".py",
   "mimetype": "text/x-python",
   "name": "python",
   "nbconvert_exporter": "python",
   "pygments_lexer": "ipython3",
   "version": "3.7.4"
  }
 },
 "nbformat": 4,
 "nbformat_minor": 4
}
